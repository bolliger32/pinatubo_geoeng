{
 "cells": [
  {
   "cell_type": "code",
   "execution_count": 7,
   "metadata": {
    "collapsed": true
   },
   "outputs": [],
   "source": [
    "# imports\n",
    "import ocw.dataset_processor as dsp\n",
    "import ocw.data_source.local as local\n",
    "\n",
    "# filepaths\n",
    "data_home_dir = '/Volumes/Lab_shared_folder/Datasets/'\n",
    "\n",
    "target_dir = data_home_dir+'Climate/Berkeley_Earth/Raw_NetCDF_1deg_x_1deg/TAVG/'\n",
    "ref_dir = data_home_dir+'Pinatubo/Total_Effect_Estimation/Data/raw/MPI-ESM-LR/tas/'"
   ]
  },
  {
   "cell_type": "code",
   "execution_count": 8,
   "metadata": {
    "collapsed": false
   },
   "outputs": [],
   "source": [
    "# settings\n",
    "target_file = target_dir+'Complete_TAVG_Daily_LatLong1_1880.nc'\n",
    "ref_file = ref_dir+'tas_day_MPI-ESM-LR_historical_r1i1p1_18500101-18591231.nc'\n",
    "var = 'tas'\n",
    "ds_targ = local.load_file(ref_file,var)\n",
    "# ds_ref\n",
    "\n",
    "# model_name = 'MPI-ESM-LR'\n",
    "# variable = 'tas'\n",
    "# time_ref_start = '1985'\n",
    "# time_ref_end = '2005'\n",
    "# time_fut_start = '2'\n",
    "# time_fut_end = \n",
    "\n",
    "\n",
    "# model_ref_info = dict()\n",
    "# model_fut_info = dict()\n",
    "# data_info = dict()\n",
    "\n",
    "# input_info['mod']"
   ]
  },
  {
   "cell_type": "code",
   "execution_count": 13,
   "metadata": {
    "collapsed": false
   },
   "outputs": [
    {
     "data": {
      "text/plain": [
       "(1.8496322631835938, 1.875)"
      ]
     },
     "execution_count": 13,
     "metadata": {},
     "output_type": "execute_result"
    }
   ],
   "source": [
    "ds_targ.spatial_resolution()"
   ]
  }
 ],
 "metadata": {
  "kernelspec": {
   "display_name": "Python 2",
   "language": "python",
   "name": "python2"
  },
  "language_info": {
   "codemirror_mode": {
    "name": "ipython",
    "version": 2
   },
   "file_extension": ".py",
   "mimetype": "text/x-python",
   "name": "python",
   "nbconvert_exporter": "python",
   "pygments_lexer": "ipython2",
   "version": "2.7.12"
  }
 },
 "nbformat": 4,
 "nbformat_minor": 0
}
