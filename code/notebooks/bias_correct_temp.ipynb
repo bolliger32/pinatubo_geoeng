{
 "cells": [
  {
   "cell_type": "code",
   "execution_count": 1,
   "metadata": {
    "collapsed": false
   },
   "outputs": [],
   "source": [
    "# imports\n",
    "import ocw.dataset_processor as dsp\n",
    "import ocw.data_source.local as local\n",
    "import datetime as dt\n",
    "from netCDF4 import num2date, Dataset, MFDataset\n",
    "import numpy as np\n",
    "import matplotlib.pyplot as plt\n",
    "\n",
    "# filepaths\n",
    "data_home_dir = '/mnt/norgay/Datasets/'\n",
    "obs_dir = data_home_dir+'Climate/Berkeley_Earth/Raw_NetCDF_1deg_x_1deg/TAVG/'\n",
    "mod_hist_dir = data_home_dir+'Pinatubo/Total_Effect_Estimation/Data/raw/MPI-ESM-LR/tas/'\n",
    "\n",
    "obs_files = [obs_dir+'Complete_TAVG_Daily_LatLong1_{}.nc'.format(y) for y in range(1880,2010,10)]\n",
    "obs_files = obs_files[:2]    # for testing only (comment out for running all files)\n",
    "mod_hist_file = mod_hist_dir+'tas_day_MPI-ESM-LR_historical_r1i1p1_18500101-18591231.nc'"
   ]
  },
  {
   "cell_type": "code",
   "execution_count": 2,
   "metadata": {
    "collapsed": false
   },
   "outputs": [],
   "source": [
    "# settings\n",
    "mod_var = 'tas'\n",
    "clim_var = 'climatology'\n",
    "obs_var = 'temperature'\n",
    "\n",
    "# get climatology\n",
    "ds_clim = Dataset(obs_files[0],'r')\n",
    "clim = ds_clim.variables['climatology'][:] + 273.15      # convert to Kelvin\n",
    "\n",
    "# get reference grid\n",
    "ds_grid = local.load_file(mod_hist_file,mod_var)\n",
    "lats = ds_grid.lats\n",
    "lons = ds_grid.lons\n",
    "del ds_grid"
   ]
  },
  {
   "cell_type": "code",
   "execution_count": 3,
   "metadata": {
    "collapsed": false,
    "scrolled": true
   },
   "outputs": [
    {
     "name": "stdout",
     "output_type": "stream",
     "text": [
      "NC file 1/2 /mnt/norgay/Datasets/Climate/Berkeley_Earth/Raw_NetCDF_1deg_x_1deg/TAVG/Complete_TAVG_Daily_LatLong1_1880.nc\n",
      "19.1206\n",
      "NC file 2/2 /mnt/norgay/Datasets/Climate/Berkeley_Earth/Raw_NetCDF_1deg_x_1deg/TAVG/Complete_TAVG_Daily_LatLong1_1890.nc\n",
      "19.768\n",
      "19.1206\n",
      "19.768\n"
     ]
    }
   ],
   "source": [
    "# load observations \n",
    "ds_obs = local.load_dataset_from_multiple_netcdf_files(\n",
    "    obs_var, time_name='date_number', file_list=obs_files)"
   ]
  },
  {
   "cell_type": "code",
   "execution_count": 4,
   "metadata": {
    "collapsed": false
   },
   "outputs": [],
   "source": [
    "days_of_year = np.array([],dtype=int)\n",
    "for t in obs_files:\n",
    "    days_of_year = np.append(days_of_year,Dataset(t).variables['day_of_year'][:].astype(int))\n",
    "    \n",
    "for x,d in enumerate(days_of_year):\n",
    "    ds_obs.values[x,:,:] = ds_obs.values[x,:,:] + clim[d-1,:,:]"
   ]
  },
  {
   "cell_type": "markdown",
   "metadata": {},
   "source": [
    "TODO:\n",
    "    - regrid (and save?)\n",
    "    - temporal subsets by month\n",
    "    - load all of MPI reference model\n",
    "    - create adjustment weights\n",
    "    - load each MPI projection timeslice\n",
    "    - bias correct"
   ]
  },
  {
   "cell_type": "code",
   "execution_count": null,
   "metadata": {
    "collapsed": true
   },
   "outputs": [],
   "source": []
  }
 ],
 "metadata": {
  "kernelspec": {
   "display_name": "Python 2",
   "language": "python",
   "name": "python2"
  },
  "language_info": {
   "codemirror_mode": {
    "name": "ipython",
    "version": 2
   },
   "file_extension": ".py",
   "mimetype": "text/x-python",
   "name": "python",
   "nbconvert_exporter": "python",
   "pygments_lexer": "ipython2",
   "version": "2.7.6"
  }
 },
 "nbformat": 4,
 "nbformat_minor": 0
}
