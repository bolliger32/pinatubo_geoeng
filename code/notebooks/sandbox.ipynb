{
 "cells": [
  {
   "cell_type": "markdown",
   "metadata": {},
   "source": [
    "## Imports"
   ]
  },
  {
   "cell_type": "code",
   "execution_count": 12,
   "metadata": {
    "collapsed": false
   },
   "outputs": [],
   "source": [
    "from os.path import join\n",
    "import numpy as np\n",
    "from osgeo import gdal, osr\n",
    "from glob import glob\n",
    "from datetime import date"
   ]
  },
  {
   "cell_type": "markdown",
   "metadata": {},
   "source": [
    "## Filepaths and parameter settings"
   ]
  },
  {
   "cell_type": "code",
   "execution_count": 16,
   "metadata": {
    "collapsed": false
   },
   "outputs": [],
   "source": [
    "# filepaths\n",
    "datadir = '/Volumes/ASO_JPL/pinatubo_geoeng_data'\n",
    "indir = join(datadir,'raw')\n",
    "intdir = join(datadir,'ee_tiffs')\n",
    "outdir = join('..','..','results')\n",
    "\n",
    "# identify variables to pull from daily and monthly output\n",
    "var_mon = ['clt','pr','od550aer','od870aer']\n",
    "var_day = ['clt','tas','tasmin','tasmax']"
   ]
  },
  {
   "cell_type": "code",
   "execution_count": 33,
   "metadata": {
    "collapsed": false
   },
   "outputs": [],
   "source": [
    "## select filenames to append together before exporting as GTiff\n",
    "\n",
    "\n",
    "# First, select date range\n",
    "start = date(2019,12,1)\n",
    "end = date(2089,12,30)\n",
    "\n",
    "\n",
    "# then sift through files\n",
    "fnames = {'rcp45':{'mon':{},'day':{}},\n",
    "          'G3':{'mon':{},'day':{}}}\n",
    "\n",
    "for proj in ['rcp45','G3']:\n",
    "    fn = fnames[proj]\n",
    "    \n",
    "    for var in var_mon:\n",
    "        files = glob(join(indir,var+'_Amon_HadGEM2-ES_'+proj+'*'))\n",
    "        starts = [date(int(f[-16:-12]),int(f[-12:-10]),1) for f in files]\n",
    "        ends = [date(int(f[-9:-5]),int(f[-5:-3]),30) for f in files]\n",
    "\n",
    "        for i, \n",
    "    "
   ]
  },
  {
   "cell_type": "code",
   "execution_count": 35,
   "metadata": {
    "collapsed": false
   },
   "outputs": [
    {
     "data": {
      "text/plain": [
       "[datetime.date(2030, 11, 30),\n",
       " datetime.date(2055, 11, 30),\n",
       " datetime.date(2080, 11, 30),\n",
       " datetime.date(2099, 11, 30),\n",
       " datetime.date(2124, 11, 30),\n",
       " datetime.date(2149, 11, 30),\n",
       " datetime.date(2174, 11, 30),\n",
       " datetime.date(2199, 11, 30),\n",
       " datetime.date(2224, 11, 30),\n",
       " datetime.date(2249, 11, 30),\n",
       " datetime.date(2274, 11, 30),\n",
       " datetime.date(2299, 11, 30),\n",
       " datetime.date(2299, 12, 30),\n",
       " datetime.date(2030, 11, 30),\n",
       " datetime.date(2055, 11, 30),\n",
       " datetime.date(2080, 11, 30),\n",
       " datetime.date(2100, 11, 30),\n",
       " datetime.date(2100, 12, 30),\n",
       " datetime.date(2030, 11, 30),\n",
       " datetime.date(2055, 11, 30),\n",
       " datetime.date(2080, 11, 30),\n",
       " datetime.date(2100, 11, 30),\n",
       " datetime.date(2100, 12, 30)]"
      ]
     },
     "execution_count": 35,
     "metadata": {},
     "output_type": "execute_result"
    }
   ],
   "source": []
  },
  {
   "cell_type": "code",
   "execution_count": 11,
   "metadata": {
    "collapsed": false
   },
   "outputs": [
    {
     "data": {
      "text/plain": [
       "['/Volumes/ASO_JPL/pinatubo_geoeng_data/raw/clt_day_HadGEM2-ES_G3_r1i1p1_20191201-20291130.nc',\n",
       " '/Volumes/ASO_JPL/pinatubo_geoeng_data/raw/clt_day_HadGEM2-ES_G3_r1i1p1_20291201-20391130.nc',\n",
       " '/Volumes/ASO_JPL/pinatubo_geoeng_data/raw/clt_day_HadGEM2-ES_G3_r1i1p1_20391201-20491130.nc',\n",
       " '/Volumes/ASO_JPL/pinatubo_geoeng_data/raw/clt_day_HadGEM2-ES_G3_r1i1p1_20491201-20591130.nc',\n",
       " '/Volumes/ASO_JPL/pinatubo_geoeng_data/raw/clt_day_HadGEM2-ES_G3_r1i1p1_20591201-20691130.nc',\n",
       " '/Volumes/ASO_JPL/pinatubo_geoeng_data/raw/clt_day_HadGEM2-ES_G3_r1i1p1_20691201-20791130.nc',\n",
       " '/Volumes/ASO_JPL/pinatubo_geoeng_data/raw/clt_day_HadGEM2-ES_G3_r1i1p1_20791201-20891130.nc',\n",
       " '/Volumes/ASO_JPL/pinatubo_geoeng_data/raw/clt_day_HadGEM2-ES_G3_r1i1p1_20891201-20891230.nc',\n",
       " '/Volumes/ASO_JPL/pinatubo_geoeng_data/raw/clt_day_HadGEM2-ES_G3_r2i1p1_20191201-20291130.nc',\n",
       " '/Volumes/ASO_JPL/pinatubo_geoeng_data/raw/clt_day_HadGEM2-ES_G3_r2i1p1_20291201-20391130.nc',\n",
       " '/Volumes/ASO_JPL/pinatubo_geoeng_data/raw/clt_day_HadGEM2-ES_G3_r2i1p1_20391201-20491130.nc',\n",
       " '/Volumes/ASO_JPL/pinatubo_geoeng_data/raw/clt_day_HadGEM2-ES_G3_r2i1p1_20491201-20591130.nc',\n",
       " '/Volumes/ASO_JPL/pinatubo_geoeng_data/raw/clt_day_HadGEM2-ES_G3_r2i1p1_20591201-20691130.nc',\n",
       " '/Volumes/ASO_JPL/pinatubo_geoeng_data/raw/clt_day_HadGEM2-ES_G3_r2i1p1_20691201-20791130.nc',\n",
       " '/Volumes/ASO_JPL/pinatubo_geoeng_data/raw/clt_day_HadGEM2-ES_G3_r2i1p1_20791201-20891130.nc',\n",
       " '/Volumes/ASO_JPL/pinatubo_geoeng_data/raw/clt_day_HadGEM2-ES_G3_r2i1p1_20891201-20891230.nc',\n",
       " '/Volumes/ASO_JPL/pinatubo_geoeng_data/raw/clt_day_HadGEM2-ES_G3_r3i1p1_20191201-20291130.nc',\n",
       " '/Volumes/ASO_JPL/pinatubo_geoeng_data/raw/clt_day_HadGEM2-ES_G3_r3i1p1_20291201-20391130.nc',\n",
       " '/Volumes/ASO_JPL/pinatubo_geoeng_data/raw/clt_day_HadGEM2-ES_G3_r3i1p1_20391201-20491130.nc',\n",
       " '/Volumes/ASO_JPL/pinatubo_geoeng_data/raw/clt_day_HadGEM2-ES_G3_r3i1p1_20491201-20591130.nc',\n",
       " '/Volumes/ASO_JPL/pinatubo_geoeng_data/raw/clt_day_HadGEM2-ES_G3_r3i1p1_20591201-20691130.nc',\n",
       " '/Volumes/ASO_JPL/pinatubo_geoeng_data/raw/clt_day_HadGEM2-ES_G3_r3i1p1_20691201-20791130.nc',\n",
       " '/Volumes/ASO_JPL/pinatubo_geoeng_data/raw/clt_day_HadGEM2-ES_G3_r3i1p1_20791201-20891130.nc',\n",
       " '/Volumes/ASO_JPL/pinatubo_geoeng_data/raw/clt_day_HadGEM2-ES_G3_r3i1p1_20891201-20891230.nc']"
      ]
     },
     "execution_count": 11,
     "metadata": {},
     "output_type": "execute_result"
    }
   ],
   "source": [
    "fnames['G3']['day']['clt']"
   ]
  },
  {
   "cell_type": "code",
   "execution_count": 90,
   "metadata": {
    "collapsed": false
   },
   "outputs": [],
   "source": [
    "ds_in = gdal.Open(join(indir,'tasmin_Amon_HadGEM2-ES_rcp45_r1i1p1_208012-209910.nc'))\n",
    "proj_out = osr.SpatialReference()\n",
    "proj_out.ImportFromEPSG(4326)\n",
    "driver = gdal.GetDriverByName( 'GTiff' )\n",
    "\n",
    "gt_in = ds_in.GetGeoTransform()\n",
    "gt_out = [gt_in[0]-180]\n",
    "for i in range(1,len(gt)):\n",
    "    gt_out.append(gt_in[i])\n",
    "gt_out = tuple(gt_out)\n",
    "\n",
    "md_all = ds_in.GetMetadata()"
   ]
  },
  {
   "cell_type": "code",
   "execution_count": 91,
   "metadata": {
    "collapsed": false
   },
   "outputs": [],
   "source": [
    "subdatasets = ds_in.GetSubDatasets()\n",
    "sds = {}\n",
    "for subdataset in subdatasets:\n",
    "\n",
    "    sds[subdataset[1].split(\" \")[1]] = gdal.Open(subdataset[0])\n",
    "\n",
    "longs = sds['lon_bnds'].GetRasterBand(1).ReadAsArray()\n",
    "lats = sds['lat_bnds'].GetRasterBand(1).ReadAsArray()\n",
    "\n",
    "vals = []\n",
    "n_bnds = sds['air_temperature'].RasterCount\n",
    "\n",
    "# get size of input NetCDFs\n",
    "x_size = sds['air_temperature'].GetRasterBand(1).XSize\n",
    "y_size = sds['air_temperature'].GetRasterBand(1).YSize\n",
    "\n",
    "# set output tiff to have one more longitude column\n",
    "ds_out = driver.Create(join(intdir,'out.tiff'), x_size+1, y_size, n_bnds, gdal.GDT_Float32 )\n",
    "ds_out.SetProjection(proj_out.ExportToWkt())\n",
    "ds_out.SetGeoTransform(gt_out)\n",
    "ds_out.SetMetadata(md_all)\n",
    "\n",
    "half_x = x_size/2\n",
    "for i in range(n_bnds):\n",
    "    src_band = sds['air_temperature'].GetRasterBand(i+1)\n",
    "    east_hemi_data = src_band.ReadRaster(0, 0, half_x, src_band.YSize)\n",
    "    west_hemi_data = src_band.ReadRaster(half_x, 0, half_x, src_band.YSize)\n",
    "    east_column = src_band.ReadRaster(half_x, 0, 1, src_band.YSize)\n",
    "    md = src_band.GetMetadata()\n",
    "    \n",
    "    dst_band = ds_out.GetRasterBand(i+1)\n",
    "    dst_band.WriteRaster(0, 0, half_x, src_band.YSize, west_hemi_data)\n",
    "    dst_band.WriteRaster(half_x, 0, half_x, src_band.YSize, east_hemi_data)\n",
    "    dst_band.WriteRaster(half_x*2, 0, 1, src_band.YSize, east_column)\n",
    "    dst_band.SetMetadata(md)\n",
    "\n",
    "sds = None\n",
    "ds_out = None"
   ]
  },
  {
   "cell_type": "markdown",
   "metadata": {},
   "source": [
    "# BELOW THIS IS OLD, TO BE DELETED"
   ]
  },
  {
   "cell_type": "markdown",
   "metadata": {},
   "source": [
    "## Functions"
   ]
  },
  {
   "cell_type": "code",
   "execution_count": 10,
   "metadata": {
    "collapsed": true
   },
   "outputs": [],
   "source": [
    "def copy_dims(dsin,dsout,extra_lon=False):\n",
    "    for dname, the_dim in dsin.dimensions.iteritems():\n",
    "        if extra_lon and dname == 'lon': len_dim = len(the_dim) + 1\n",
    "        else: len_dim = len(the_dim)\n",
    "        dsout.createDimension(dname, len_dim if not the_dim.isunlimited() else None)\n",
    "    return dsout\n",
    "\n",
    "def copy_vars(dsin,dsout,extra_lon=False):\n",
    "    # Copy variables aside from variable of interest\n",
    "    for v_name in ['time','lat','lon','lon_bnds','time_bnds','lat_bnds','od870aer']:\n",
    "        varin = dsin.variables[v_name]\n",
    "        outVar = dsout.createVariable(v_name, varin.dtype, varin.dimensions)\n",
    "\n",
    "        print v_name\n",
    "        # Copy variable attributes\n",
    "        outVar.setncatts({k: getattr(varin,k) for k in varin.ncattrs()})\n",
    "\n",
    "        # Copy variable values\n",
    "        if extra_lon==True and v_name in ['lon','lon_bnds','od870aer']:\n",
    "            if v_name=='lon':\n",
    "                outVar[:-1] = varin[:]\n",
    "            if v_name=='lon_bnds':\n",
    "                outVar[:-1,:] = varin[:]\n",
    "            if v_name=='od870aer':\n",
    "                outVar[:,:,:-1] = varin[:]\n",
    "        else:\n",
    "            outVar[:] = varin[:]\n",
    "        \n",
    "    return dsout"
   ]
  },
  {
   "cell_type": "markdown",
   "metadata": {},
   "source": [
    "## Prepare processed data NetCDF file"
   ]
  },
  {
   "cell_type": "code",
   "execution_count": 52,
   "metadata": {
    "collapsed": true
   },
   "outputs": [],
   "source": [
    "dsout.close()"
   ]
  },
  {
   "cell_type": "code",
   "execution_count": 53,
   "metadata": {
    "collapsed": false
   },
   "outputs": [
    {
     "name": "stdout",
     "output_type": "stream",
     "text": [
      "time\n",
      "lat\n",
      "lon\n",
      "lon_bnds\n",
      "time_bnds\n",
      "lat_bnds\n",
      "od870aer\n"
     ]
    }
   ],
   "source": [
    "## Merge files for one variable, one ensemble to get dimensions\n",
    "\n",
    "# use SAOD870 as one example of a monthly observation to pull dimensions from\n",
    "dsin = nc.Dataset(join(indir,'od870aer_aero_HadGEM2-ES_rcp45_r1i1p1_217412-219911.nc'))\n",
    "\n",
    "# output to a single file for CMIP5 reference scenario results\n",
    "dsout = nc.Dataset(int_data_rcp45,'w',format='NETCDF4')\n",
    "\n",
    "# copy over dimensions\n",
    "dsout = copy_dims(dsin, dsout,extra_lon=True)\n",
    "\n",
    "# add ensemble member dimension\n",
    "# ens_dim = dsout.createDimension('ensemble',4)\n",
    "# ens = dsout.createVariable('ensemble','u1',('ensemble',))\n",
    "# ens[:] = [1,2,3,4]\n",
    "\n",
    "# copy over dimension-based variables\n",
    "dsout = copy_vars(dsin, dsout,extra_lon=True)\n"
   ]
  },
  {
   "cell_type": "code",
   "execution_count": 54,
   "metadata": {
    "collapsed": false
   },
   "outputs": [],
   "source": [
    "dsout.variables['lon'][:-1] = np.concatenate((dsout.variables['lon'][96:-1]-360,dsout.variables['lon'][:96]))\n",
    "dsout.variables['od870aer'][:,:,:-1] = np.concatenate((dsout.variables['od870aer'][:,:,96:-1],dsout.variables['od870aer'][:,:,:96]),axis=2)\n",
    "dsout.variables['lon_bnds'][:-1,:] = np.concatenate((dsout.variables['lon_bnds'][96:-1,:]-360,dsout.variables['lon_bnds'][:96,:]),axis=0)"
   ]
  },
  {
   "cell_type": "code",
   "execution_count": 55,
   "metadata": {
    "collapsed": false
   },
   "outputs": [],
   "source": [
    "dsout.variables['lon'][-1] = dsout.variables['lon'][0]+360\n",
    "\n",
    "dsout.variables['lon_bnds'][-1,:] = dsout.variables['lon_bnds'][0,:]+360\n",
    "\n",
    "dsout.variables['od870aer'][:,:,-1] = dsout.variables['od870aer'][:,:,0]"
   ]
  },
  {
   "cell_type": "code",
   "execution_count": 56,
   "metadata": {
    "collapsed": true
   },
   "outputs": [],
   "source": [
    "dsout.close()"
   ]
  },
  {
   "cell_type": "markdown",
   "metadata": {},
   "source": [
    "## Pull CMIP5 (RCP 4.5) data"
   ]
  },
  {
   "cell_type": "code",
   "execution_count": 190,
   "metadata": {
    "collapsed": false
   },
   "outputs": [],
   "source": [
    "ensemble_members = [1]\n",
    "\n",
    "for e in ensemble_members:\n",
    "    \n",
    "    ## cloud fraction, SAOD 870, and 560\n",
    "#     for var in ['od870aer_aero','od560aer_aero','clt_atmos']:\n",
    "    for var in ['od870aer_aero']:\n",
    "        if '_aero' in var:\n",
    "            varname = var[:-5]\n",
    "        elif '_atmos' in var:\n",
    "            varname = var[:-6]\n",
    "            \n",
    "        dsin = nc.MFDataset(join(indir,'{}_HadGEM2-ES_rcp45_r{}i1p1_*.nc'.format(var,e)))\n",
    "\n",
    "        # Add value of interest\n",
    "        with nc.Dataset(int_data_rcp45,'a',format='NETCDF4') as dsout:\n",
    "            newvar = dsout.createVariable(varname,'f8',('time','lat','lon','ensemble',))\n",
    "            newvar[:,:,:,e-1] = dsin.variables[varname][:]\n",
    "            \n",
    "    ## TODO: do this for temp but bin by days in a month that fall into a given category\n",
    "    \n",
    "    "
   ]
  },
  {
   "cell_type": "markdown",
   "metadata": {},
   "source": [
    "## Pull GeoMIP (G3) data"
   ]
  },
  {
   "cell_type": "markdown",
   "metadata": {},
   "source": [
    "## Get betas"
   ]
  },
  {
   "cell_type": "markdown",
   "metadata": {},
   "source": [
    "## Calculate effects (CMIP5 scenario, GeoMIP scenario, and difference) for each variable and then the cumulative effect"
   ]
  },
  {
   "cell_type": "markdown",
   "metadata": {},
   "source": [
    "1) first calculate for each ensemble individually\n",
    "2) Then take mean"
   ]
  }
 ],
 "metadata": {
  "kernelspec": {
   "display_name": "Python 2",
   "language": "python",
   "name": "python2"
  },
  "language_info": {
   "codemirror_mode": {
    "name": "ipython",
    "version": 2
   },
   "file_extension": ".py",
   "mimetype": "text/x-python",
   "name": "python",
   "nbconvert_exporter": "python",
   "pygments_lexer": "ipython2",
   "version": "2.7.11"
  }
 },
 "nbformat": 4,
 "nbformat_minor": 0
}
