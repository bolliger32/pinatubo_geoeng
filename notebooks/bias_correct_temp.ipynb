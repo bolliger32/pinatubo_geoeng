{
 "cells": [
  {
   "cell_type": "code",
   "execution_count": 72,
   "metadata": {
    "collapsed": false
   },
   "outputs": [],
   "source": [
    "# imports\n",
    "import ocw.dataset_processor as dsp\n",
    "import ocw.data_source.local as local\n",
    "import datetime as dt\n",
    "from netCDF4 import num2date, Dataset, MFDataset\n",
    "import numpy as np\n",
    "import matplotlib.pyplot as plt\n",
    "from sys import getsizeof\n",
    "from glob import glob\n",
    "\n",
    "# filepaths\n",
    "home_dir = '/mnt/norgay/Datasets/'\n",
    "pinatubo_home_dir = home_dir+'Pinatubo/Total_Effect_Estimation/Data/'\n",
    "obs_home_dir = home_dir+'Climate/Berkeley_Earth/'\n",
    "\n",
    "obs_dir = obs_home_dir+'Raw_NetCDF_1deg_x_1deg/TAVG/'\n",
    "regridded_dir = obs_home_dir+'regridded_NetCDF_MPI-ESM-LR-grid/TAVG/'\n",
    "mod_hist_dir = pinatubo_home_dir+'raw/MPI-ESM-LR/tas/'\n",
    "mod_fut_dir = pinatubo_home_dir+'bias_corrected/'\n",
    "\n",
    "mod_hist_prefix = mod_hist_dir+'tas_day_MPI-ESM-LR_historical_'"
   ]
  },
  {
   "cell_type": "code",
   "execution_count": 73,
   "metadata": {
    "collapsed": false
   },
   "outputs": [],
   "source": [
    "## settings\n",
    "\n",
    "# vars\n",
    "mod_var = 'tas'\n",
    "clim_var = 'climatology'\n",
    "obs_var = 'temperature'\n",
    "\n",
    "# time range\n",
    "ref_start_date = 1975\n",
    "ref_end_date = 2005\n"
   ]
  },
  {
   "cell_type": "code",
   "execution_count": 74,
   "metadata": {
    "collapsed": true
   },
   "outputs": [],
   "source": [
    "## functions\n",
    "def rounddown(flt, divisor=10):\n",
    "    return int(flt/divisor)*divisor\n",
    "\n",
    "def roundup(flt,divisor=10):\n",
    "    return int(np.ceil(float(flt)/divisor)*divisor)\n",
    "\n",
    "def temporal_slice_by_year(ds,year_start,year_end):\n",
    "    start_date = dt.datetime(year_start,1,1)\n",
    "    end_date = dt.datetime(year_end+1,1,1)\n",
    "\n",
    "    timeStart = min(np.nonzero(ds.times >= start_date)[0])\n",
    "    timeEnd = max(np.nonzero(ds.times <= end_date)[0])\n",
    "    ds.times = ds.times[timeStart:timeEnd + 1]\n",
    "    ds.values = ds.values[timeStart:timeEnd + 1, :]\n",
    "    \n",
    "    return ds\n",
    "    \n",
    "def round_datetime_to_hour(dt_obj):\n",
    "    dt_plus = dt_obj + dt.timedelta(minutes=30)\n",
    "    return dt_plus.replace(minute=0,second=0, microsecond=0)\n",
    "# make it able to apply to numpy arrays\n",
    "round_datetime_to_hour = np.vectorize(round_datetime_to_hour)"
   ]
  },
  {
   "cell_type": "code",
   "execution_count": null,
   "metadata": {
    "collapsed": true
   },
   "outputs": [],
   "source": [
    "# get list of historical model output files to use\n",
    "r*i1p1_18500101-18591231.nc'"
   ]
  },
  {
   "cell_type": "code",
   "execution_count": 75,
   "metadata": {
    "collapsed": false
   },
   "outputs": [],
   "source": [
    "# get list of observation netCDFs\n",
    "start = rounddown(ref_start_date,10)\n",
    "stop = roundup(ref_end_date,10)\n",
    "obs_files = [obs_dir+'Complete_TAVG_Daily_LatLong1_{}.nc'.format(y) for y in range(start,stop,10)]\n",
    "# obs_files = obs_files[:2]    # for testing only (comment out for running all files)\n",
    "\n",
    "# get climatology\n",
    "ds_clim = Dataset(obs_files[0],'r')\n",
    "clim = ds_clim.variables['climatology'][:] + 273.15      # convert to Kelvin\n",
    "\n",
    "# get reference grid\n",
    "ds_grid = local.load_file(glob(mod_hist_path_pattern)[0],mod_var)\n",
    "lats = ds_grid.lats\n",
    "lons = ds_grid.lons\n",
    "del ds_grid"
   ]
  },
  {
   "cell_type": "code",
   "execution_count": 76,
   "metadata": {
    "collapsed": false,
    "scrolled": true
   },
   "outputs": [
    {
     "name": "stdout",
     "output_type": "stream",
     "text": [
      "NC file 1/4 /mnt/norgay/Datasets/Climate/Berkeley_Earth/Raw_NetCDF_1deg_x_1deg/TAVG/Complete_TAVG_Daily_LatLong1_1970.nc\n",
      "NC file 2/4 /mnt/norgay/Datasets/Climate/Berkeley_Earth/Raw_NetCDF_1deg_x_1deg/TAVG/Complete_TAVG_Daily_LatLong1_1980.nc\n",
      "NC file 3/4 /mnt/norgay/Datasets/Climate/Berkeley_Earth/Raw_NetCDF_1deg_x_1deg/TAVG/Complete_TAVG_Daily_LatLong1_1990.nc\n",
      "NC file 4/4 /mnt/norgay/Datasets/Climate/Berkeley_Earth/Raw_NetCDF_1deg_x_1deg/TAVG/Complete_TAVG_Daily_LatLong1_2000.nc\n"
     ]
    }
   ],
   "source": [
    "# load anomaly observations \n",
    "ds_obs = local.load_dataset_from_multiple_netcdf_files(\n",
    "    obs_var, time_name='date_number', file_list=obs_files)"
   ]
  },
  {
   "cell_type": "code",
   "execution_count": 77,
   "metadata": {
    "collapsed": false
   },
   "outputs": [],
   "source": [
    "# data is calculated as anomolies, so add back on climatology\n",
    "days_of_year = np.array([],dtype=int)\n",
    "for t in obs_files:\n",
    "    days_of_year = np.append(days_of_year,Dataset(t).variables['day_of_year'][:].astype(int))\n",
    "    \n",
    "for x,d in enumerate(days_of_year):\n",
    "    ds_obs.values[x,:,:] = ds_obs.values[x,:,:] + clim[d-1,:,:]"
   ]
  },
  {
   "cell_type": "code",
   "execution_count": 78,
   "metadata": {
    "collapsed": true
   },
   "outputs": [],
   "source": [
    "# regrid\n",
    "ds_obs = dsp.spatial_regrid(ds_obs,lats,lons)\n",
    "\n",
    "# convert times to 12-noon on day of interest\n",
    "ds_obs.times = round_datetime_to_hour(ds_obs.times)\n",
    "\n",
    "# save\n",
    "ds_obs.units = 'K'\n",
    "dsp.write_netcdf(ds_obs,regridded_dir+'tas_BEST_1970-2010.nc')"
   ]
  },
  {
   "cell_type": "code",
   "execution_count": 40,
   "metadata": {
    "collapsed": false
   },
   "outputs": [],
   "source": [
    "## ONLY USE TO RELOAD WITHOUT RE-REGRIDDING (COMMENT OUT IF RUNNING FROM SCRATCH)\n",
    "# ds_obs = local.load_file(regridded_dir+'tas_BEST_1970-2010.nc','temperature')"
   ]
  },
  {
   "cell_type": "code",
   "execution_count": 80,
   "metadata": {
    "collapsed": false
   },
   "outputs": [
    {
     "ename": "ValueError",
     "evalue": "min() arg is an empty sequence",
     "output_type": "error",
     "traceback": [
      "\u001b[0;31m---------------------------------------------------------------------------\u001b[0m",
      "\u001b[0;31mValueError\u001b[0m                                Traceback (most recent call last)",
      "\u001b[0;32m<ipython-input-80-cda2eb7268ed>\u001b[0m in \u001b[0;36m<module>\u001b[0;34m()\u001b[0m\n\u001b[1;32m      3\u001b[0m \u001b[0;34m\u001b[0m\u001b[0m\n\u001b[1;32m      4\u001b[0m \u001b[0;31m# slice only relevant dates\u001b[0m\u001b[0;34m\u001b[0m\u001b[0;34m\u001b[0m\u001b[0m\n\u001b[0;32m----> 5\u001b[0;31m \u001b[0mds_mod_hist\u001b[0m \u001b[0;34m=\u001b[0m \u001b[0;34m[\u001b[0m\u001b[0mtemporal_slice_by_year\u001b[0m\u001b[0;34m(\u001b[0m\u001b[0mds\u001b[0m\u001b[0;34m,\u001b[0m\u001b[0mref_start_date\u001b[0m\u001b[0;34m,\u001b[0m\u001b[0mref_end_date\u001b[0m\u001b[0;34m)\u001b[0m \u001b[0;32mfor\u001b[0m \u001b[0mds\u001b[0m \u001b[0;32min\u001b[0m \u001b[0mds_mod_hist\u001b[0m\u001b[0;34m]\u001b[0m\u001b[0;34m\u001b[0m\u001b[0m\n\u001b[0m",
      "\u001b[0;32m<ipython-input-74-1c4f5f76c4b7>\u001b[0m in \u001b[0;36mtemporal_slice_by_year\u001b[0;34m(ds, year_start, year_end)\u001b[0m\n\u001b[1;32m     10\u001b[0m     \u001b[0mend_date\u001b[0m \u001b[0;34m=\u001b[0m \u001b[0mdt\u001b[0m\u001b[0;34m.\u001b[0m\u001b[0mdatetime\u001b[0m\u001b[0;34m(\u001b[0m\u001b[0myear_end\u001b[0m\u001b[0;34m+\u001b[0m\u001b[0;36m1\u001b[0m\u001b[0;34m,\u001b[0m\u001b[0;36m1\u001b[0m\u001b[0;34m,\u001b[0m\u001b[0;36m1\u001b[0m\u001b[0;34m)\u001b[0m\u001b[0;34m\u001b[0m\u001b[0m\n\u001b[1;32m     11\u001b[0m \u001b[0;34m\u001b[0m\u001b[0m\n\u001b[0;32m---> 12\u001b[0;31m     \u001b[0mtimeStart\u001b[0m \u001b[0;34m=\u001b[0m \u001b[0mmin\u001b[0m\u001b[0;34m(\u001b[0m\u001b[0mnp\u001b[0m\u001b[0;34m.\u001b[0m\u001b[0mnonzero\u001b[0m\u001b[0;34m(\u001b[0m\u001b[0mds\u001b[0m\u001b[0;34m.\u001b[0m\u001b[0mtimes\u001b[0m \u001b[0;34m>=\u001b[0m \u001b[0mstart_date\u001b[0m\u001b[0;34m)\u001b[0m\u001b[0;34m[\u001b[0m\u001b[0;36m0\u001b[0m\u001b[0;34m]\u001b[0m\u001b[0;34m)\u001b[0m\u001b[0;34m\u001b[0m\u001b[0m\n\u001b[0m\u001b[1;32m     13\u001b[0m     \u001b[0mtimeEnd\u001b[0m \u001b[0;34m=\u001b[0m \u001b[0mmax\u001b[0m\u001b[0;34m(\u001b[0m\u001b[0mnp\u001b[0m\u001b[0;34m.\u001b[0m\u001b[0mnonzero\u001b[0m\u001b[0;34m(\u001b[0m\u001b[0mds\u001b[0m\u001b[0;34m.\u001b[0m\u001b[0mtimes\u001b[0m \u001b[0;34m<=\u001b[0m \u001b[0mend_date\u001b[0m\u001b[0;34m)\u001b[0m\u001b[0;34m[\u001b[0m\u001b[0;36m0\u001b[0m\u001b[0;34m]\u001b[0m\u001b[0;34m)\u001b[0m\u001b[0;34m\u001b[0m\u001b[0m\n\u001b[1;32m     14\u001b[0m     \u001b[0mds\u001b[0m\u001b[0;34m.\u001b[0m\u001b[0mtimes\u001b[0m \u001b[0;34m=\u001b[0m \u001b[0mds\u001b[0m\u001b[0;34m.\u001b[0m\u001b[0mtimes\u001b[0m\u001b[0;34m[\u001b[0m\u001b[0mtimeStart\u001b[0m\u001b[0;34m:\u001b[0m\u001b[0mtimeEnd\u001b[0m \u001b[0;34m+\u001b[0m \u001b[0;36m1\u001b[0m\u001b[0;34m]\u001b[0m\u001b[0;34m\u001b[0m\u001b[0m\n",
      "\u001b[0;31mValueError\u001b[0m: min() arg is an empty sequence"
     ]
    }
   ],
   "source": [
    "# load historical (reference) model\n",
    "ds_mod_hist = local.load_multiple_files(mod_hist_path_pattern, variable_name='tas')[0]\n",
    "\n",
    "# slice only relevant dates\n",
    "ds_mod_hist = [temporal_slice_by_year(ds,ref_start_date,ref_end_date) for ds in ds_mod_hist]"
   ]
  },
  {
   "cell_type": "code",
   "execution_count": 82,
   "metadata": {
    "collapsed": false
   },
   "outputs": [
    {
     "ename": "ValueError",
     "evalue": "min() arg is an empty sequence",
     "output_type": "error",
     "traceback": [
      "\u001b[0;31m---------------------------------------------------------------------------\u001b[0m",
      "\u001b[0;31mValueError\u001b[0m                                Traceback (most recent call last)",
      "\u001b[0;32m<ipython-input-82-c45501efcca2>\u001b[0m in \u001b[0;36m<module>\u001b[0;34m()\u001b[0m\n\u001b[0;32m----> 1\u001b[0;31m \u001b[0mtemporal_slice_by_year\u001b[0m\u001b[0;34m(\u001b[0m\u001b[0mds_mod_hist\u001b[0m\u001b[0;34m[\u001b[0m\u001b[0;36m0\u001b[0m\u001b[0;34m]\u001b[0m\u001b[0;34m,\u001b[0m\u001b[0;36m1975\u001b[0m\u001b[0;34m,\u001b[0m\u001b[0;36m1985\u001b[0m\u001b[0;34m)\u001b[0m\u001b[0;34m\u001b[0m\u001b[0m\n\u001b[0m",
      "\u001b[0;32m<ipython-input-74-1c4f5f76c4b7>\u001b[0m in \u001b[0;36mtemporal_slice_by_year\u001b[0;34m(ds, year_start, year_end)\u001b[0m\n\u001b[1;32m     10\u001b[0m     \u001b[0mend_date\u001b[0m \u001b[0;34m=\u001b[0m \u001b[0mdt\u001b[0m\u001b[0;34m.\u001b[0m\u001b[0mdatetime\u001b[0m\u001b[0;34m(\u001b[0m\u001b[0myear_end\u001b[0m\u001b[0;34m+\u001b[0m\u001b[0;36m1\u001b[0m\u001b[0;34m,\u001b[0m\u001b[0;36m1\u001b[0m\u001b[0;34m,\u001b[0m\u001b[0;36m1\u001b[0m\u001b[0;34m)\u001b[0m\u001b[0;34m\u001b[0m\u001b[0m\n\u001b[1;32m     11\u001b[0m \u001b[0;34m\u001b[0m\u001b[0m\n\u001b[0;32m---> 12\u001b[0;31m     \u001b[0mtimeStart\u001b[0m \u001b[0;34m=\u001b[0m \u001b[0mmin\u001b[0m\u001b[0;34m(\u001b[0m\u001b[0mnp\u001b[0m\u001b[0;34m.\u001b[0m\u001b[0mnonzero\u001b[0m\u001b[0;34m(\u001b[0m\u001b[0mds\u001b[0m\u001b[0;34m.\u001b[0m\u001b[0mtimes\u001b[0m \u001b[0;34m>=\u001b[0m \u001b[0mstart_date\u001b[0m\u001b[0;34m)\u001b[0m\u001b[0;34m[\u001b[0m\u001b[0;36m0\u001b[0m\u001b[0;34m]\u001b[0m\u001b[0;34m)\u001b[0m\u001b[0;34m\u001b[0m\u001b[0m\n\u001b[0m\u001b[1;32m     13\u001b[0m     \u001b[0mtimeEnd\u001b[0m \u001b[0;34m=\u001b[0m \u001b[0mmax\u001b[0m\u001b[0;34m(\u001b[0m\u001b[0mnp\u001b[0m\u001b[0;34m.\u001b[0m\u001b[0mnonzero\u001b[0m\u001b[0;34m(\u001b[0m\u001b[0mds\u001b[0m\u001b[0;34m.\u001b[0m\u001b[0mtimes\u001b[0m \u001b[0;34m<=\u001b[0m \u001b[0mend_date\u001b[0m\u001b[0;34m)\u001b[0m\u001b[0;34m[\u001b[0m\u001b[0;36m0\u001b[0m\u001b[0;34m]\u001b[0m\u001b[0;34m)\u001b[0m\u001b[0;34m\u001b[0m\u001b[0m\n\u001b[1;32m     14\u001b[0m     \u001b[0mds\u001b[0m\u001b[0;34m.\u001b[0m\u001b[0mtimes\u001b[0m \u001b[0;34m=\u001b[0m \u001b[0mds\u001b[0m\u001b[0;34m.\u001b[0m\u001b[0mtimes\u001b[0m\u001b[0;34m[\u001b[0m\u001b[0mtimeStart\u001b[0m\u001b[0;34m:\u001b[0m\u001b[0mtimeEnd\u001b[0m \u001b[0;34m+\u001b[0m \u001b[0;36m1\u001b[0m\u001b[0;34m]\u001b[0m\u001b[0;34m\u001b[0m\u001b[0m\n",
      "\u001b[0;31mValueError\u001b[0m: min() arg is an empty sequence"
     ]
    }
   ],
   "source": [
    "temporal_slice_by_year(ds_mod_hist[0],1975,1985)"
   ]
  },
  {
   "cell_type": "code",
   "execution_count": 17,
   "metadata": {
    "collapsed": false
   },
   "outputs": [
    {
     "name": "stderr",
     "output_type": "stream",
     "text": [
      "/home/bolliger/virtualenvs/Pinatubo/local/lib/python2.7/site-packages/ocw/dataset_processor.py:72: VisibleDeprecationWarning: non integer (and non boolean) array-likes will not be accepted as indices in the future\n",
      "  target_dataset.times[time_index],\n",
      "/home/bolliger/virtualenvs/Pinatubo/local/lib/python2.7/site-packages/numpy/ma/core.py:3117: VisibleDeprecationWarning: non integer (and non boolean) array-likes will not be accepted as indices in the future\n",
      "  dout = self.data[indx]\n",
      "/home/bolliger/virtualenvs/Pinatubo/local/lib/python2.7/site-packages/numpy/ma/core.py:3172: VisibleDeprecationWarning: non integer (and non boolean) array-likes will not be accepted as indices in the future\n",
      "  dout._mask = _mask[indx]\n"
     ]
    }
   ],
   "source": [
    "## take temporal subset by month\n",
    "\n",
    "# first slice \n",
    "# for i in range(1,13):\n",
    "for i in [1]:\n",
    "    obs_mon = dsp.temporal_subset(i,i,ds_obs)\n",
    "    mod_hist_mon = [dsp.temporal_subset(i,i,r) for r in ds_mod_hist]"
   ]
  },
  {
   "cell_type": "code",
   "execution_count": 19,
   "metadata": {
    "collapsed": false
   },
   "outputs": [
    {
     "data": {
      "text/plain": [
       "array([datetime.datetime(1850, 1, 1, 12, 0),\n",
       "       datetime.datetime(1850, 1, 2, 12, 0),\n",
       "       datetime.datetime(1850, 1, 3, 12, 0),\n",
       "       datetime.datetime(1850, 1, 4, 12, 0),\n",
       "       datetime.datetime(1850, 1, 5, 12, 0),\n",
       "       datetime.datetime(1850, 1, 6, 12, 0),\n",
       "       datetime.datetime(1850, 1, 7, 12, 0),\n",
       "       datetime.datetime(1850, 1, 8, 12, 0),\n",
       "       datetime.datetime(1850, 1, 9, 12, 0),\n",
       "       datetime.datetime(1850, 1, 10, 12, 0),\n",
       "       datetime.datetime(1850, 1, 11, 12, 0),\n",
       "       datetime.datetime(1850, 1, 12, 12, 0),\n",
       "       datetime.datetime(1850, 1, 13, 12, 0),\n",
       "       datetime.datetime(1850, 1, 14, 12, 0),\n",
       "       datetime.datetime(1850, 1, 15, 12, 0),\n",
       "       datetime.datetime(1850, 1, 16, 12, 0),\n",
       "       datetime.datetime(1850, 1, 17, 12, 0),\n",
       "       datetime.datetime(1850, 1, 18, 12, 0),\n",
       "       datetime.datetime(1850, 1, 19, 12, 0),\n",
       "       datetime.datetime(1850, 1, 20, 12, 0),\n",
       "       datetime.datetime(1850, 1, 21, 12, 0),\n",
       "       datetime.datetime(1850, 1, 22, 12, 0),\n",
       "       datetime.datetime(1850, 1, 23, 12, 0),\n",
       "       datetime.datetime(1850, 1, 24, 12, 0),\n",
       "       datetime.datetime(1850, 1, 25, 12, 0),\n",
       "       datetime.datetime(1850, 1, 26, 12, 0),\n",
       "       datetime.datetime(1850, 1, 27, 12, 0),\n",
       "       datetime.datetime(1850, 1, 28, 12, 0),\n",
       "       datetime.datetime(1850, 1, 29, 12, 0),\n",
       "       datetime.datetime(1850, 1, 30, 12, 0),\n",
       "       datetime.datetime(1850, 1, 31, 12, 0),\n",
       "       datetime.datetime(1851, 1, 1, 12, 0),\n",
       "       datetime.datetime(1851, 1, 2, 12, 0),\n",
       "       datetime.datetime(1851, 1, 3, 12, 0),\n",
       "       datetime.datetime(1851, 1, 4, 12, 0),\n",
       "       datetime.datetime(1851, 1, 5, 12, 0),\n",
       "       datetime.datetime(1851, 1, 6, 12, 0),\n",
       "       datetime.datetime(1851, 1, 7, 12, 0),\n",
       "       datetime.datetime(1851, 1, 8, 12, 0),\n",
       "       datetime.datetime(1851, 1, 9, 12, 0),\n",
       "       datetime.datetime(1851, 1, 10, 12, 0),\n",
       "       datetime.datetime(1851, 1, 11, 12, 0),\n",
       "       datetime.datetime(1851, 1, 12, 12, 0),\n",
       "       datetime.datetime(1851, 1, 13, 12, 0),\n",
       "       datetime.datetime(1851, 1, 14, 12, 0),\n",
       "       datetime.datetime(1851, 1, 15, 12, 0),\n",
       "       datetime.datetime(1851, 1, 16, 12, 0),\n",
       "       datetime.datetime(1851, 1, 17, 12, 0),\n",
       "       datetime.datetime(1851, 1, 18, 12, 0),\n",
       "       datetime.datetime(1851, 1, 19, 12, 0),\n",
       "       datetime.datetime(1851, 1, 20, 12, 0),\n",
       "       datetime.datetime(1851, 1, 21, 12, 0),\n",
       "       datetime.datetime(1851, 1, 22, 12, 0),\n",
       "       datetime.datetime(1851, 1, 23, 12, 0),\n",
       "       datetime.datetime(1851, 1, 24, 12, 0),\n",
       "       datetime.datetime(1851, 1, 25, 12, 0),\n",
       "       datetime.datetime(1851, 1, 26, 12, 0),\n",
       "       datetime.datetime(1851, 1, 27, 12, 0),\n",
       "       datetime.datetime(1851, 1, 28, 12, 0),\n",
       "       datetime.datetime(1851, 1, 29, 12, 0),\n",
       "       datetime.datetime(1851, 1, 30, 12, 0),\n",
       "       datetime.datetime(1851, 1, 31, 12, 0),\n",
       "       datetime.datetime(1852, 1, 1, 12, 0),\n",
       "       datetime.datetime(1852, 1, 2, 12, 0),\n",
       "       datetime.datetime(1852, 1, 3, 12, 0),\n",
       "       datetime.datetime(1852, 1, 4, 12, 0),\n",
       "       datetime.datetime(1852, 1, 5, 12, 0),\n",
       "       datetime.datetime(1852, 1, 6, 12, 0),\n",
       "       datetime.datetime(1852, 1, 7, 12, 0),\n",
       "       datetime.datetime(1852, 1, 8, 12, 0),\n",
       "       datetime.datetime(1852, 1, 9, 12, 0),\n",
       "       datetime.datetime(1852, 1, 10, 12, 0),\n",
       "       datetime.datetime(1852, 1, 11, 12, 0),\n",
       "       datetime.datetime(1852, 1, 12, 12, 0),\n",
       "       datetime.datetime(1852, 1, 13, 12, 0),\n",
       "       datetime.datetime(1852, 1, 14, 12, 0),\n",
       "       datetime.datetime(1852, 1, 15, 12, 0),\n",
       "       datetime.datetime(1852, 1, 16, 12, 0),\n",
       "       datetime.datetime(1852, 1, 17, 12, 0),\n",
       "       datetime.datetime(1852, 1, 18, 12, 0),\n",
       "       datetime.datetime(1852, 1, 19, 12, 0),\n",
       "       datetime.datetime(1852, 1, 20, 12, 0),\n",
       "       datetime.datetime(1852, 1, 21, 12, 0),\n",
       "       datetime.datetime(1852, 1, 22, 12, 0),\n",
       "       datetime.datetime(1852, 1, 23, 12, 0),\n",
       "       datetime.datetime(1852, 1, 24, 12, 0),\n",
       "       datetime.datetime(1852, 1, 25, 12, 0),\n",
       "       datetime.datetime(1852, 1, 26, 12, 0),\n",
       "       datetime.datetime(1852, 1, 27, 12, 0),\n",
       "       datetime.datetime(1852, 1, 28, 12, 0),\n",
       "       datetime.datetime(1852, 1, 29, 12, 0),\n",
       "       datetime.datetime(1852, 1, 30, 12, 0),\n",
       "       datetime.datetime(1852, 1, 31, 12, 0),\n",
       "       datetime.datetime(1853, 1, 1, 12, 0),\n",
       "       datetime.datetime(1853, 1, 2, 12, 0),\n",
       "       datetime.datetime(1853, 1, 3, 12, 0),\n",
       "       datetime.datetime(1853, 1, 4, 12, 0),\n",
       "       datetime.datetime(1853, 1, 5, 12, 0),\n",
       "       datetime.datetime(1853, 1, 6, 12, 0),\n",
       "       datetime.datetime(1853, 1, 7, 12, 0),\n",
       "       datetime.datetime(1853, 1, 8, 12, 0),\n",
       "       datetime.datetime(1853, 1, 9, 12, 0),\n",
       "       datetime.datetime(1853, 1, 10, 12, 0),\n",
       "       datetime.datetime(1853, 1, 11, 12, 0),\n",
       "       datetime.datetime(1853, 1, 12, 12, 0),\n",
       "       datetime.datetime(1853, 1, 13, 12, 0),\n",
       "       datetime.datetime(1853, 1, 14, 12, 0),\n",
       "       datetime.datetime(1853, 1, 15, 12, 0),\n",
       "       datetime.datetime(1853, 1, 16, 12, 0),\n",
       "       datetime.datetime(1853, 1, 17, 12, 0),\n",
       "       datetime.datetime(1853, 1, 18, 12, 0),\n",
       "       datetime.datetime(1853, 1, 19, 12, 0),\n",
       "       datetime.datetime(1853, 1, 20, 12, 0),\n",
       "       datetime.datetime(1853, 1, 21, 12, 0),\n",
       "       datetime.datetime(1853, 1, 22, 12, 0),\n",
       "       datetime.datetime(1853, 1, 23, 12, 0),\n",
       "       datetime.datetime(1853, 1, 24, 12, 0),\n",
       "       datetime.datetime(1853, 1, 25, 12, 0),\n",
       "       datetime.datetime(1853, 1, 26, 12, 0),\n",
       "       datetime.datetime(1853, 1, 27, 12, 0),\n",
       "       datetime.datetime(1853, 1, 28, 12, 0),\n",
       "       datetime.datetime(1853, 1, 29, 12, 0),\n",
       "       datetime.datetime(1853, 1, 30, 12, 0),\n",
       "       datetime.datetime(1853, 1, 31, 12, 0),\n",
       "       datetime.datetime(1854, 1, 1, 12, 0),\n",
       "       datetime.datetime(1854, 1, 2, 12, 0),\n",
       "       datetime.datetime(1854, 1, 3, 12, 0),\n",
       "       datetime.datetime(1854, 1, 4, 12, 0),\n",
       "       datetime.datetime(1854, 1, 5, 12, 0),\n",
       "       datetime.datetime(1854, 1, 6, 12, 0),\n",
       "       datetime.datetime(1854, 1, 7, 12, 0),\n",
       "       datetime.datetime(1854, 1, 8, 12, 0),\n",
       "       datetime.datetime(1854, 1, 9, 12, 0),\n",
       "       datetime.datetime(1854, 1, 10, 12, 0),\n",
       "       datetime.datetime(1854, 1, 11, 12, 0),\n",
       "       datetime.datetime(1854, 1, 12, 12, 0),\n",
       "       datetime.datetime(1854, 1, 13, 12, 0),\n",
       "       datetime.datetime(1854, 1, 14, 12, 0),\n",
       "       datetime.datetime(1854, 1, 15, 12, 0),\n",
       "       datetime.datetime(1854, 1, 16, 12, 0),\n",
       "       datetime.datetime(1854, 1, 17, 12, 0),\n",
       "       datetime.datetime(1854, 1, 18, 12, 0),\n",
       "       datetime.datetime(1854, 1, 19, 12, 0),\n",
       "       datetime.datetime(1854, 1, 20, 12, 0),\n",
       "       datetime.datetime(1854, 1, 21, 12, 0),\n",
       "       datetime.datetime(1854, 1, 22, 12, 0),\n",
       "       datetime.datetime(1854, 1, 23, 12, 0),\n",
       "       datetime.datetime(1854, 1, 24, 12, 0),\n",
       "       datetime.datetime(1854, 1, 25, 12, 0),\n",
       "       datetime.datetime(1854, 1, 26, 12, 0),\n",
       "       datetime.datetime(1854, 1, 27, 12, 0),\n",
       "       datetime.datetime(1854, 1, 28, 12, 0),\n",
       "       datetime.datetime(1854, 1, 29, 12, 0),\n",
       "       datetime.datetime(1854, 1, 30, 12, 0),\n",
       "       datetime.datetime(1854, 1, 31, 12, 0),\n",
       "       datetime.datetime(1855, 1, 1, 12, 0),\n",
       "       datetime.datetime(1855, 1, 2, 12, 0),\n",
       "       datetime.datetime(1855, 1, 3, 12, 0),\n",
       "       datetime.datetime(1855, 1, 4, 12, 0),\n",
       "       datetime.datetime(1855, 1, 5, 12, 0),\n",
       "       datetime.datetime(1855, 1, 6, 12, 0),\n",
       "       datetime.datetime(1855, 1, 7, 12, 0),\n",
       "       datetime.datetime(1855, 1, 8, 12, 0),\n",
       "       datetime.datetime(1855, 1, 9, 12, 0),\n",
       "       datetime.datetime(1855, 1, 10, 12, 0),\n",
       "       datetime.datetime(1855, 1, 11, 12, 0),\n",
       "       datetime.datetime(1855, 1, 12, 12, 0),\n",
       "       datetime.datetime(1855, 1, 13, 12, 0),\n",
       "       datetime.datetime(1855, 1, 14, 12, 0),\n",
       "       datetime.datetime(1855, 1, 15, 12, 0),\n",
       "       datetime.datetime(1855, 1, 16, 12, 0),\n",
       "       datetime.datetime(1855, 1, 17, 12, 0),\n",
       "       datetime.datetime(1855, 1, 18, 12, 0),\n",
       "       datetime.datetime(1855, 1, 19, 12, 0),\n",
       "       datetime.datetime(1855, 1, 20, 12, 0),\n",
       "       datetime.datetime(1855, 1, 21, 12, 0),\n",
       "       datetime.datetime(1855, 1, 22, 12, 0),\n",
       "       datetime.datetime(1855, 1, 23, 12, 0),\n",
       "       datetime.datetime(1855, 1, 24, 12, 0),\n",
       "       datetime.datetime(1855, 1, 25, 12, 0),\n",
       "       datetime.datetime(1855, 1, 26, 12, 0),\n",
       "       datetime.datetime(1855, 1, 27, 12, 0),\n",
       "       datetime.datetime(1855, 1, 28, 12, 0),\n",
       "       datetime.datetime(1855, 1, 29, 12, 0),\n",
       "       datetime.datetime(1855, 1, 30, 12, 0),\n",
       "       datetime.datetime(1855, 1, 31, 12, 0),\n",
       "       datetime.datetime(1856, 1, 1, 12, 0),\n",
       "       datetime.datetime(1856, 1, 2, 12, 0),\n",
       "       datetime.datetime(1856, 1, 3, 12, 0),\n",
       "       datetime.datetime(1856, 1, 4, 12, 0),\n",
       "       datetime.datetime(1856, 1, 5, 12, 0),\n",
       "       datetime.datetime(1856, 1, 6, 12, 0),\n",
       "       datetime.datetime(1856, 1, 7, 12, 0),\n",
       "       datetime.datetime(1856, 1, 8, 12, 0),\n",
       "       datetime.datetime(1856, 1, 9, 12, 0),\n",
       "       datetime.datetime(1856, 1, 10, 12, 0),\n",
       "       datetime.datetime(1856, 1, 11, 12, 0),\n",
       "       datetime.datetime(1856, 1, 12, 12, 0),\n",
       "       datetime.datetime(1856, 1, 13, 12, 0),\n",
       "       datetime.datetime(1856, 1, 14, 12, 0),\n",
       "       datetime.datetime(1856, 1, 15, 12, 0),\n",
       "       datetime.datetime(1856, 1, 16, 12, 0),\n",
       "       datetime.datetime(1856, 1, 17, 12, 0),\n",
       "       datetime.datetime(1856, 1, 18, 12, 0),\n",
       "       datetime.datetime(1856, 1, 19, 12, 0),\n",
       "       datetime.datetime(1856, 1, 20, 12, 0),\n",
       "       datetime.datetime(1856, 1, 21, 12, 0),\n",
       "       datetime.datetime(1856, 1, 22, 12, 0),\n",
       "       datetime.datetime(1856, 1, 23, 12, 0),\n",
       "       datetime.datetime(1856, 1, 24, 12, 0),\n",
       "       datetime.datetime(1856, 1, 25, 12, 0),\n",
       "       datetime.datetime(1856, 1, 26, 12, 0),\n",
       "       datetime.datetime(1856, 1, 27, 12, 0),\n",
       "       datetime.datetime(1856, 1, 28, 12, 0),\n",
       "       datetime.datetime(1856, 1, 29, 12, 0),\n",
       "       datetime.datetime(1856, 1, 30, 12, 0),\n",
       "       datetime.datetime(1856, 1, 31, 12, 0),\n",
       "       datetime.datetime(1857, 1, 1, 12, 0),\n",
       "       datetime.datetime(1857, 1, 2, 12, 0),\n",
       "       datetime.datetime(1857, 1, 3, 12, 0),\n",
       "       datetime.datetime(1857, 1, 4, 12, 0),\n",
       "       datetime.datetime(1857, 1, 5, 12, 0),\n",
       "       datetime.datetime(1857, 1, 6, 12, 0),\n",
       "       datetime.datetime(1857, 1, 7, 12, 0),\n",
       "       datetime.datetime(1857, 1, 8, 12, 0),\n",
       "       datetime.datetime(1857, 1, 9, 12, 0),\n",
       "       datetime.datetime(1857, 1, 10, 12, 0),\n",
       "       datetime.datetime(1857, 1, 11, 12, 0),\n",
       "       datetime.datetime(1857, 1, 12, 12, 0),\n",
       "       datetime.datetime(1857, 1, 13, 12, 0),\n",
       "       datetime.datetime(1857, 1, 14, 12, 0),\n",
       "       datetime.datetime(1857, 1, 15, 12, 0),\n",
       "       datetime.datetime(1857, 1, 16, 12, 0),\n",
       "       datetime.datetime(1857, 1, 17, 12, 0),\n",
       "       datetime.datetime(1857, 1, 18, 12, 0),\n",
       "       datetime.datetime(1857, 1, 19, 12, 0),\n",
       "       datetime.datetime(1857, 1, 20, 12, 0),\n",
       "       datetime.datetime(1857, 1, 21, 12, 0),\n",
       "       datetime.datetime(1857, 1, 22, 12, 0),\n",
       "       datetime.datetime(1857, 1, 23, 12, 0),\n",
       "       datetime.datetime(1857, 1, 24, 12, 0),\n",
       "       datetime.datetime(1857, 1, 25, 12, 0),\n",
       "       datetime.datetime(1857, 1, 26, 12, 0),\n",
       "       datetime.datetime(1857, 1, 27, 12, 0),\n",
       "       datetime.datetime(1857, 1, 28, 12, 0),\n",
       "       datetime.datetime(1857, 1, 29, 12, 0),\n",
       "       datetime.datetime(1857, 1, 30, 12, 0),\n",
       "       datetime.datetime(1857, 1, 31, 12, 0),\n",
       "       datetime.datetime(1858, 1, 1, 12, 0),\n",
       "       datetime.datetime(1858, 1, 2, 12, 0),\n",
       "       datetime.datetime(1858, 1, 3, 12, 0),\n",
       "       datetime.datetime(1858, 1, 4, 12, 0),\n",
       "       datetime.datetime(1858, 1, 5, 12, 0),\n",
       "       datetime.datetime(1858, 1, 6, 12, 0),\n",
       "       datetime.datetime(1858, 1, 7, 12, 0),\n",
       "       datetime.datetime(1858, 1, 8, 12, 0),\n",
       "       datetime.datetime(1858, 1, 9, 12, 0),\n",
       "       datetime.datetime(1858, 1, 10, 12, 0),\n",
       "       datetime.datetime(1858, 1, 11, 12, 0),\n",
       "       datetime.datetime(1858, 1, 12, 12, 0),\n",
       "       datetime.datetime(1858, 1, 13, 12, 0),\n",
       "       datetime.datetime(1858, 1, 14, 12, 0),\n",
       "       datetime.datetime(1858, 1, 15, 12, 0),\n",
       "       datetime.datetime(1858, 1, 16, 12, 0),\n",
       "       datetime.datetime(1858, 1, 17, 12, 0),\n",
       "       datetime.datetime(1858, 1, 18, 12, 0),\n",
       "       datetime.datetime(1858, 1, 19, 12, 0),\n",
       "       datetime.datetime(1858, 1, 20, 12, 0),\n",
       "       datetime.datetime(1858, 1, 21, 12, 0),\n",
       "       datetime.datetime(1858, 1, 22, 12, 0),\n",
       "       datetime.datetime(1858, 1, 23, 12, 0),\n",
       "       datetime.datetime(1858, 1, 24, 12, 0),\n",
       "       datetime.datetime(1858, 1, 25, 12, 0),\n",
       "       datetime.datetime(1858, 1, 26, 12, 0),\n",
       "       datetime.datetime(1858, 1, 27, 12, 0),\n",
       "       datetime.datetime(1858, 1, 28, 12, 0),\n",
       "       datetime.datetime(1858, 1, 29, 12, 0),\n",
       "       datetime.datetime(1858, 1, 30, 12, 0),\n",
       "       datetime.datetime(1858, 1, 31, 12, 0),\n",
       "       datetime.datetime(1859, 1, 1, 12, 0),\n",
       "       datetime.datetime(1859, 1, 2, 12, 0),\n",
       "       datetime.datetime(1859, 1, 3, 12, 0),\n",
       "       datetime.datetime(1859, 1, 4, 12, 0),\n",
       "       datetime.datetime(1859, 1, 5, 12, 0),\n",
       "       datetime.datetime(1859, 1, 6, 12, 0),\n",
       "       datetime.datetime(1859, 1, 7, 12, 0),\n",
       "       datetime.datetime(1859, 1, 8, 12, 0),\n",
       "       datetime.datetime(1859, 1, 9, 12, 0),\n",
       "       datetime.datetime(1859, 1, 10, 12, 0),\n",
       "       datetime.datetime(1859, 1, 11, 12, 0),\n",
       "       datetime.datetime(1859, 1, 12, 12, 0),\n",
       "       datetime.datetime(1859, 1, 13, 12, 0),\n",
       "       datetime.datetime(1859, 1, 14, 12, 0),\n",
       "       datetime.datetime(1859, 1, 15, 12, 0),\n",
       "       datetime.datetime(1859, 1, 16, 12, 0),\n",
       "       datetime.datetime(1859, 1, 17, 12, 0),\n",
       "       datetime.datetime(1859, 1, 18, 12, 0),\n",
       "       datetime.datetime(1859, 1, 19, 12, 0),\n",
       "       datetime.datetime(1859, 1, 20, 12, 0),\n",
       "       datetime.datetime(1859, 1, 21, 12, 0),\n",
       "       datetime.datetime(1859, 1, 22, 12, 0),\n",
       "       datetime.datetime(1859, 1, 23, 12, 0),\n",
       "       datetime.datetime(1859, 1, 24, 12, 0),\n",
       "       datetime.datetime(1859, 1, 25, 12, 0),\n",
       "       datetime.datetime(1859, 1, 26, 12, 0),\n",
       "       datetime.datetime(1859, 1, 27, 12, 0),\n",
       "       datetime.datetime(1859, 1, 28, 12, 0),\n",
       "       datetime.datetime(1859, 1, 29, 12, 0),\n",
       "       datetime.datetime(1859, 1, 30, 12, 0),\n",
       "       datetime.datetime(1859, 1, 31, 12, 0)], dtype=object)"
      ]
     },
     "execution_count": 19,
     "metadata": {},
     "output_type": "execute_result"
    }
   ],
   "source": [
    "mod_hist_mon[0].times"
   ]
  },
  {
   "cell_type": "markdown",
   "metadata": {},
   "source": [
    "TODO:\n",
    "    - regrid (and save?)\n",
    "    - temporal subsets by month\n",
    "    - load all of MPI reference model\n",
    "    - create adjustment weights\n",
    "    - load each MPI projection timeslice\n",
    "    - bias correct"
   ]
  },
  {
   "cell_type": "code",
   "execution_count": null,
   "metadata": {
    "collapsed": true
   },
   "outputs": [],
   "source": []
  }
 ],
 "metadata": {
  "kernelspec": {
   "display_name": "Python 2",
   "language": "python",
   "name": "python2"
  },
  "language_info": {
   "codemirror_mode": {
    "name": "ipython",
    "version": 2
   },
   "file_extension": ".py",
   "mimetype": "text/x-python",
   "name": "python",
   "nbconvert_exporter": "python",
   "pygments_lexer": "ipython2",
   "version": "2.7.6"
  }
 },
 "nbformat": 4,
 "nbformat_minor": 0
}
