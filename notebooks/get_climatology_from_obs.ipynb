{
 "cells": [
  {
   "cell_type": "code",
   "execution_count": 1,
   "metadata": {
    "collapsed": true
   },
   "outputs": [],
   "source": [
    "# imports\n",
    "import ocw.dataset_processor as dsp\n",
    "import ocw.data_source.local as local\n",
    "import datetime as dt\n",
    "from netCDF4 import num2date\n",
    "import numpy as np\n",
    "\n",
    "# filepaths\n",
    "data_home_dir = '/mnt/norgay/Datasets/Climate/Berkeley_Earth/Raw_NetCDF_1deg_x_1deg/TAVG/'\n",
    "out_dir = data_home_dir+'Climate/Berkeley_Earth/climatology_1880/TAVG/'"
   ]
  },
  {
   "cell_type": "code",
   "execution_count": null,
   "metadata": {
    "collapsed": true
   },
   "outputs": [],
   "source": [
    "# settings\n",
    "targ_file = target_dir+'Complete_TAVG_Daily_LatLong1_1880.nc'\n",
    "ref_file = ref_dir+'tas_day_MPI-ESM-LR_historical_r1i1p1_18500101-18591231.nc'\n",
    "ref_var = 'tas'\n",
    "targ_var = 'temperature'\n",
    "out_file = \n",
    "\n",
    "ds_ref = local.load_file(ref_file,ref_var)\n",
    "ds_targ = local.load_file(targ_file,targ_var,time_name='date_number')\n",
    "\n",
    "ds_out = dsp.spatial_regrid(ds_targ, new_latitudes=ds_ref.lats, new_longitudes=ds_ref.lons)"
   ]
  }
 ],
 "metadata": {
  "kernelspec": {
   "display_name": "Python 2",
   "language": "python",
   "name": "python2"
  },
  "language_info": {
   "codemirror_mode": {
    "name": "ipython",
    "version": 2
   },
   "file_extension": ".py",
   "mimetype": "text/x-python",
   "name": "python",
   "nbconvert_exporter": "python",
   "pygments_lexer": "ipython2",
   "version": "2.7.6"
  }
 },
 "nbformat": 4,
 "nbformat_minor": 1
}
